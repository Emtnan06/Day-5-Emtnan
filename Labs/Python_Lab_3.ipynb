{
 "cells": [
  {
   "cell_type": "markdown",
   "metadata": {},
   "source": [
    "# Python_Lab_3\n"
   ]
  },
  {
   "cell_type": "markdown",
   "metadata": {},
   "source": [
    "### Task 1\n",
    "- Write a function named **'create_student_records'** that takes a list of tuples. Each tuple contains a student's name and their scores in three subjects. The function should return a list of dictionaries, where each dictionary represents a student with keys: name, subject1, subject2, subject3. Use list comprehension to create the list of dictionaries."
   ]
  },
  {
   "cell_type": "code",
   "execution_count": 6,
   "metadata": {},
   "outputs": [
    {
     "name": "stdout",
     "output_type": "stream",
     "text": [
      "[{'name': 'Reema', 'subject1': 94, 'subject2': 90, 'subject3': 83}, {'name': 'Deema', 'subject1': 85, 'subject2': 74, 'subject3': 89}, {'name': 'Noura', 'subject1': 76, 'subject2': 69, 'subject3': 82}]\n"
     ]
    }
   ],
   "source": [
    "def create_student_records(student_data) :\n",
    "    return [\n",
    "        {'name': name, 'subject1': score1, 'subject2': score2, 'subject3': score3}\n",
    "        for name, score1, score2, score3 in student_data\n",
    "    ]\n",
    "\n",
    "# Example usage:\n",
    "students = [('Reema', 94, 90, 83), ('Deema', 85, 74, 89), ('Noura', 76, 69, 82)]\n",
    "records = create_student_records(students)\n",
    "print(records)\n"
   ]
  },
  {
   "cell_type": "markdown",
   "metadata": {},
   "source": [
    "### Task 2\n",
    "- Write a function named **'filter_and_sort_students'** that takes the list of dictionaries from Question 1 and returns a sorted list of student names who have an average score of 80 or more across all subjects. Sort the names in alphabetical order."
   ]
  },
  {
   "cell_type": "code",
   "execution_count": 5,
   "metadata": {},
   "outputs": [
    {
     "name": "stdout",
     "output_type": "stream",
     "text": [
      "[('Reema', 94, 90, 83), ('Deema', 85, 74, 89), ('Noura', 76, 69, 82)]\n",
      "['Deema', 'Reema']\n"
     ]
    }
   ],
   "source": [
    "def filter_and_sort_students(student_data):\n",
    "\n",
    "    filtered_students = [\n",
    "        student['name']\n",
    "        for student in student_data\n",
    "        if (student['subject1'] + student['subject2'] + student['subject3']) / 3 >= 80\n",
    "    ]\n",
    "    return sorted(filtered_students)\n",
    "\n",
    "records = create_student_records(students)\n",
    "print(students)\n",
    "sorted_students = filter_and_sort_students(records)\n",
    "print(sorted_students)"
   ]
  },
  {
   "cell_type": "markdown",
   "metadata": {},
   "source": [
    "### Task 3\n",
    "- Write a function named **'get_product_info'** that prompts the user to enter information about a product. The function should ask for the product name, product price, and product quantity. If the user enters an invalid input (e.g., a non-numeric value for the price or quantity), the function should handle the error and prompt the user to enter the value again. Return a dictionary containing the product information."
   ]
  },
  {
   "cell_type": "code",
   "execution_count": 7,
   "metadata": {},
   "outputs": [
    {
     "name": "stdout",
     "output_type": "stream",
     "text": [
      "['Deema', 'Reema']\n"
     ]
    }
   ],
   "source": [
    "\n",
    "def get_product_info():\n",
    "    product_name = input(\"Enter product name: \")\n",
    "    \n",
    "    while True:\n",
    "        try:\n",
    "            product_price = float(input(\"Enter product price: \"))\n",
    "            break\n",
    "        except ValueError:\n",
    "            print(\"Invalid input. Please enter a numeric value for price.\")\n",
    "    \n",
    "    while True:\n",
    "        try:\n",
    "            product_quantity = int(input(\"Enter product quantity: \"))\n",
    "            break\n",
    "        except ValueError:\n",
    "            print(\"Invalid input. Please enter a numeric value for quantity.\")\n",
    "    \n",
    "    return {\n",
    "        'name': product_name,\n",
    "        'price': product_price,\n",
    "        'quantity': product_quantity\n",
    "    }\n",
    "\n",
    "\n",
    "records = create_student_records(students)\n",
    "sorted_students = filter_and_sort_students(records)\n",
    "print(sorted_students)"
   ]
  },
  {
   "cell_type": "markdown",
   "metadata": {},
   "source": [
    "### Task 4\n",
    "- Write a function named **'get_even_numbers'** that takes a list of integers and returns a list of even numbers using list comprehension."
   ]
  },
  {
   "cell_type": "code",
   "execution_count": 8,
   "metadata": {},
   "outputs": [
    {
     "name": "stdout",
     "output_type": "stream",
     "text": [
      "['Deema', 'Reema']\n"
     ]
    }
   ],
   "source": [
    "def get_even_numbers(numbers):\n",
    "\n",
    "    return [num for num in numbers if num % 2 == 0]\n",
    "\n",
    "sorted_students = filter_and_sort_students(records)\n",
    "print(sorted_students)"
   ]
  },
  {
   "cell_type": "markdown",
   "metadata": {},
   "source": [
    "### Task 5\n",
    "- Write a function named **'pair_elements'** that takes two lists of equal length as parameters and returns a list of tuples, where each tuple contains corresponding elements from the two lists. Use the zip function to achieve this."
   ]
  },
  {
   "cell_type": "markdown",
   "metadata": {},
   "source": []
  },
  {
   "cell_type": "code",
   "execution_count": 17,
   "metadata": {},
   "outputs": [
    {
     "name": "stdout",
     "output_type": "stream",
     "text": [
      "[({'name': 'Saleh', 'subject1': 94, 'subject2': 90, 'subject3': 83}, {'name': 'Reema', 'subject1': 94, 'subject2': 90, 'subject3': 83}), ({'name': 'Sami', 'subject1': 85, 'subject2': 74, 'subject3': 89}, {'name': 'Deema', 'subject1': 85, 'subject2': 74, 'subject3': 89}), ({'name': 'Fahahd', 'subject1': 76, 'subject2': 69, 'subject3': 82}, {'name': 'Noura', 'subject1': 76, 'subject2': 69, 'subject3': 82})]\n"
     ]
    }
   ],
   "source": [
    "def pair_elements(list1, list2):\n",
    "    return list(zip(list1, list2))\n",
    "\n",
    "studentsf = [('Reema', 94, 90, 83), ('Deema', 85, 74, 89), ('Noura', 76, 69, 82)]\n",
    "studentsm = [('Saleh', 94, 90, 83), ('Sami', 85, 74, 89), ('Fahahd', 76, 69, 82)]\n",
    "recordsf = create_student_records(studentsf)\n",
    "recordsm = create_student_records(studentsm)\n",
    "pairs = pair_elements(recordsm, recordsf)  \n",
    "print(pairs)"
   ]
  },
  {
   "cell_type": "markdown",
   "metadata": {},
   "source": [
    "### Task 6\n",
    "- Write a function named **'square_dict_lambda'** that takes a list of integers and returns a dictionary where the keys are the integers and the values are their squares. Use a lambda function within a dictionary comprehension to achieve this."
   ]
  },
  {
   "cell_type": "code",
   "execution_count": 21,
   "metadata": {},
   "outputs": [
    {
     "name": "stdout",
     "output_type": "stream",
     "text": [
      "{1: 1, 2: 4, 3: 9, 4: 16, 5: 25}\n"
     ]
    }
   ],
   "source": [
    "\n",
    "numbers = [1, 2, 3, 4, 5]\n",
    "\n",
    "def square_dict_lambda(numbers):\n",
    "    return {num: num ** 2 for num in numbers}\n",
    "\n",
    "squared_numbers = square_dict_lambda(numbers)\n",
    "print(squared_numbers)\n"
   ]
  }
 ],
 "metadata": {
  "kernelspec": {
   "display_name": "Python 3",
   "language": "python",
   "name": "python3"
  },
  "language_info": {
   "codemirror_mode": {
    "name": "ipython",
    "version": 3
   },
   "file_extension": ".py",
   "mimetype": "text/x-python",
   "name": "python",
   "nbconvert_exporter": "python",
   "pygments_lexer": "ipython3",
   "version": "3.9.6"
  }
 },
 "nbformat": 4,
 "nbformat_minor": 2
}
